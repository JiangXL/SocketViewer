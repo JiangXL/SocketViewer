{
 "cells": [
  {
   "cell_type": "markdown",
   "metadata": {},
   "source": [
    "# Socket Transfer Demo For Image Transfer\n",
    "20191008 by H.F\n",
    "\n",
    "Here is a simple demo to send image from socket server to socket client"
   ]
  },
  {
   "cell_type": "markdown",
   "metadata": {},
   "source": [
    "## Server"
   ]
  },
  {
   "cell_type": "code",
   "execution_count": 1,
   "metadata": {},
   "outputs": [],
   "source": [
    "import SocketTransfer\n",
    "import cv2 as cv\n",
    "from matplotlib import pyplot as plt\n",
    "import time"
   ]
  },
  {
   "cell_type": "code",
   "execution_count": 2,
   "metadata": {},
   "outputs": [],
   "source": [
    "# Create server object\n",
    "server = SocketTransfer.socket_server()"
   ]
  },
  {
   "cell_type": "code",
   "execution_count": 9,
   "metadata": {},
   "outputs": [
    {
     "name": "stdout",
     "output_type": "stream",
     "text": [
      "Client ('127.0.0.1', 40224) connected\n"
     ]
    }
   ],
   "source": [
    "# Run to access the new connection from client each time\n",
    "server.connect()"
   ]
  },
  {
   "cell_type": "code",
   "execution_count": 12,
   "metadata": {},
   "outputs": [],
   "source": [
    "# Send image to client just run send_img(x)\n",
    "x = cv.imread('test.tif', -1)\n",
    "x_normalize = cv.normalize(x, None, alpha=0, beta=255,\n",
    "                           norm_type=cv.NORM_MINMAX, dtype=cv.CV_8UC1)\n",
    "for i in range(50):\n",
    "    server.send_img(x)\n",
    "    time.sleep(0.1)"
   ]
  },
  {
   "cell_type": "code",
   "execution_count": null,
   "metadata": {},
   "outputs": [],
   "source": []
  },
  {
   "cell_type": "markdown",
   "metadata": {},
   "source": [
    "## Client"
   ]
  },
  {
   "cell_type": "code",
   "execution_count": 13,
   "metadata": {},
   "outputs": [],
   "source": [
    "# New client object with server host name\n",
    "client = SocketTransfer.socket_viewer('127.0.0.1')"
   ]
  },
  {
   "cell_type": "code",
   "execution_count": null,
   "metadata": {},
   "outputs": [],
   "source": [
    "# Receive image from server\n",
    "img = client.recv_img() # Because block-mode is default, it should run in\n",
    "# another threading or process"
   ]
  }
 ],
 "metadata": {
  "kernelspec": {
   "display_name": "Python 3",
   "language": "python",
   "name": "python3"
  },
  "language_info": {
   "codemirror_mode": {
    "name": "ipython",
    "version": 3
   },
   "file_extension": ".py",
   "mimetype": "text/x-python",
   "name": "python",
   "nbconvert_exporter": "python",
   "pygments_lexer": "ipython3",
   "version": "3.7.5"
  }
 },
 "nbformat": 4,
 "nbformat_minor": 4
}
