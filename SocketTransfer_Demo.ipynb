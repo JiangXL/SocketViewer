{
 "cells": [
  {
   "cell_type": "markdown",
   "metadata": {},
   "source": [
    "# Transfer images using SocketTransfer.py \n",
    "2020202 by H.F\n",
    "\n",
    "A demo to send image from `SocketTransfer.socket_sender` to `SocketTransfer.socket_receiver`.\n",
    "\n",
    "Addtionly, we can use `GUIViewer.py` to recive images"
   ]
  },
  {
   "cell_type": "markdown",
   "metadata": {},
   "source": [
    "## Socket Sender (Server Part)"
   ]
  },
  {
   "cell_type": "code",
   "execution_count": 1,
   "metadata": {},
   "outputs": [],
   "source": [
    "import time\n",
    "import cv2 as cv\n",
    "import SocketTransfer\n",
    "#from matplotlib import pyplot as plt"
   ]
  },
  {
   "cell_type": "markdown",
   "metadata": {},
   "source": [
    "`socket_sender()` create and listen a blocking socket at 0.0.0.0:6000. Load test image files for test."
   ]
  },
  {
   "cell_type": "code",
   "execution_count": 2,
   "metadata": {},
   "outputs": [],
   "source": [
    "sender = SocketTransfer.socket_sender()\n",
    "x = cv.imread('test.tif', -1)\n",
    "x2 = cv.imread('test2.tif', -1)\n",
    "#x_normalize = cv.normalize(x, None, alpha=0, beta=255,\n",
    "#                           norm_type=cv.NORM_MINMAX, dtype=cv.CV_8UC1)"
   ]
  },
  {
   "cell_type": "markdown",
   "metadata": {},
   "source": [
    "Need run `accept()` to accept `socket_receiver`'s connection request each time. Once connection is build, a build-in 2-D gaussian will be sent firstly. It devolops from origin socket's accept method, and try listen and connect `socket_receiver` once connection is interrupted."
   ]
  },
  {
   "cell_type": "code",
   "execution_count": 16,
   "metadata": {},
   "outputs": [
    {
     "name": "stdout",
     "output_type": "stream",
     "text": [
      "Client ('127.0.0.1', 58530) connected\n"
     ]
    }
   ],
   "source": [
    "sender.accept()"
   ]
  },
  {
   "cell_type": "markdown",
   "metadata": {},
   "source": [
    "Just use `send_img(img)` to send single image. Because it is a blocking socket, it will wait until transfer finish. Only gray 16 bit images are designed to send corretly. "
   ]
  },
  {
   "cell_type": "code",
   "execution_count": 17,
   "metadata": {},
   "outputs": [
    {
     "name": "stdout",
     "output_type": "stream",
     "text": [
      "CPU times: user 6.4 ms, sys: 2.97 ms, total: 9.36 ms\n",
      "Wall time: 12.9 ms\n"
     ]
    }
   ],
   "source": [
    "%time sender.send_img(x2)"
   ]
  },
  {
   "cell_type": "code",
   "execution_count": 6,
   "metadata": {},
   "outputs": [],
   "source": [
    "for i in range(10):\n",
    "    sender.send_img(x)\n",
    "    time.sleep(1)"
   ]
  },
  {
   "cell_type": "markdown",
   "metadata": {},
   "source": [
    "`SocketTransfer` has build-in 2-D gaussian test img."
   ]
  },
  {
   "cell_type": "code",
   "execution_count": 7,
   "metadata": {},
   "outputs": [],
   "source": [
    "sender.send_img(sender.testimg)"
   ]
  },
  {
   "cell_type": "markdown",
   "metadata": {},
   "source": [
    "Finally, close socket. Only use it when you close whole program."
   ]
  },
  {
   "cell_type": "code",
   "execution_count": 5,
   "metadata": {},
   "outputs": [],
   "source": [
    "sender.close()"
   ]
  },
  {
   "cell_type": "markdown",
   "metadata": {},
   "source": [
    "## Socket Receiver (Client Part)"
   ]
  },
  {
   "cell_type": "markdown",
   "metadata": {},
   "source": [
    "`socket_receiver` creat client socket with `socket_sender`'s address. In principle and most time, run  in botn in local and remote as you want. It is a blocking socket with timeout 0.0001s. (NOTE: receiver and sender should not run in the same notbook, due to `send_img()` will block thread)"
   ]
  },
  {
   "cell_type": "code",
   "execution_count": 9,
   "metadata": {},
   "outputs": [
    {
     "name": "stdout",
     "output_type": "stream",
     "text": [
      "Connecting to  ('127.0.0.1', 60000)\n"
     ]
    }
   ],
   "source": [
    "receiver = SocketTransfer.socket_receiver('127.0.0.1')"
   ]
  },
  {
   "cell_type": "markdown",
   "metadata": {},
   "source": [
    "Simply, just call `recv_img()` to receive image. Because it is timeout socket, you will get image once `socket_sender` has sent image, or it return `None`."
   ]
  },
  {
   "cell_type": "code",
   "execution_count": null,
   "metadata": {},
   "outputs": [],
   "source": [
    "img = receiver.recv_img()  "
   ]
  }
 ],
 "metadata": {
  "kernelspec": {
   "display_name": "Python 3",
   "language": "python",
   "name": "python3"
  },
  "language_info": {
   "codemirror_mode": {
    "name": "ipython",
    "version": 3
   },
   "file_extension": ".py",
   "mimetype": "text/x-python",
   "name": "python",
   "nbconvert_exporter": "python",
   "pygments_lexer": "ipython3",
   "version": "3.7.6"
  }
 },
 "nbformat": 4,
 "nbformat_minor": 4
}
